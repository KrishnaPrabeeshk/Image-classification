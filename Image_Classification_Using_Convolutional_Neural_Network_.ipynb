{
  "nbformat": 4,
  "nbformat_minor": 0,
  "metadata": {
    "colab": {
      "name": " Image Classification Using Convolutional Neural Network .ipynb",
      "provenance": [],
      "collapsed_sections": []
    },
    "kernelspec": {
      "name": "python3",
      "display_name": "Python 3"
    },
    "language_info": {
      "name": "python"
    }
  },
  "cells": [
    {
      "cell_type": "markdown",
      "source": [
        "**importing necessary libraries**"
      ],
      "metadata": {
        "id": "hNuFf6BWVBs-"
      }
    },
    {
      "cell_type": "code",
      "execution_count": null,
      "metadata": {
        "id": "r4uS59NxU4z2"
      },
      "outputs": [],
      "source": [
        "import tensorflow as tf\n",
        "from tensorflow.keras import datasets , models , layers\n",
        "import matplotlib.pyplot as plt\n",
        "import numpy as np"
      ]
    },
    {
      "cell_type": "markdown",
      "source": [
        "**Load the dataset**"
      ],
      "metadata": {
        "id": "prmglO2PVfJU"
      }
    },
    {
      "cell_type": "code",
      "source": [
        "(X_train , y_train) , (X_test,y_test) = datasets.cifar10.load_data()"
      ],
      "metadata": {
        "colab": {
          "base_uri": "https://localhost:8080/"
        },
        "id": "16XujH4CVj9H",
        "outputId": "1ef8adf5-9ac1-4a16-ca88-6a619a924440"
      },
      "execution_count": null,
      "outputs": [
        {
          "output_type": "stream",
          "name": "stdout",
          "text": [
            "Downloading data from https://www.cs.toronto.edu/~kriz/cifar-10-python.tar.gz\n",
            "170500096/170498071 [==============================] - 2s 0us/step\n",
            "170508288/170498071 [==============================] - 2s 0us/step\n"
          ]
        }
      ]
    },
    {
      "cell_type": "code",
      "source": [
        "X_train.shape"
      ],
      "metadata": {
        "colab": {
          "base_uri": "https://localhost:8080/"
        },
        "id": "NHN6Y17ZWDKx",
        "outputId": "4aceab8f-3530-4ee3-840e-77bdbcf02655"
      },
      "execution_count": null,
      "outputs": [
        {
          "output_type": "execute_result",
          "data": {
            "text/plain": [
              "(50000, 32, 32, 3)"
            ]
          },
          "metadata": {},
          "execution_count": 4
        }
      ]
    },
    {
      "cell_type": "code",
      "source": [
        "X_train[0]"
      ],
      "metadata": {
        "colab": {
          "base_uri": "https://localhost:8080/"
        },
        "id": "te8WFTEOWSV4",
        "outputId": "ecae48ce-3af6-4ba5-896f-1ed1dc8a99ff"
      },
      "execution_count": null,
      "outputs": [
        {
          "output_type": "execute_result",
          "data": {
            "text/plain": [
              "array([[[ 59,  62,  63],\n",
              "        [ 43,  46,  45],\n",
              "        [ 50,  48,  43],\n",
              "        ...,\n",
              "        [158, 132, 108],\n",
              "        [152, 125, 102],\n",
              "        [148, 124, 103]],\n",
              "\n",
              "       [[ 16,  20,  20],\n",
              "        [  0,   0,   0],\n",
              "        [ 18,   8,   0],\n",
              "        ...,\n",
              "        [123,  88,  55],\n",
              "        [119,  83,  50],\n",
              "        [122,  87,  57]],\n",
              "\n",
              "       [[ 25,  24,  21],\n",
              "        [ 16,   7,   0],\n",
              "        [ 49,  27,   8],\n",
              "        ...,\n",
              "        [118,  84,  50],\n",
              "        [120,  84,  50],\n",
              "        [109,  73,  42]],\n",
              "\n",
              "       ...,\n",
              "\n",
              "       [[208, 170,  96],\n",
              "        [201, 153,  34],\n",
              "        [198, 161,  26],\n",
              "        ...,\n",
              "        [160, 133,  70],\n",
              "        [ 56,  31,   7],\n",
              "        [ 53,  34,  20]],\n",
              "\n",
              "       [[180, 139,  96],\n",
              "        [173, 123,  42],\n",
              "        [186, 144,  30],\n",
              "        ...,\n",
              "        [184, 148,  94],\n",
              "        [ 97,  62,  34],\n",
              "        [ 83,  53,  34]],\n",
              "\n",
              "       [[177, 144, 116],\n",
              "        [168, 129,  94],\n",
              "        [179, 142,  87],\n",
              "        ...,\n",
              "        [216, 184, 140],\n",
              "        [151, 118,  84],\n",
              "        [123,  92,  72]]], dtype=uint8)"
            ]
          },
          "metadata": {},
          "execution_count": 5
        }
      ]
    },
    {
      "cell_type": "code",
      "source": [
        "X_test.shape"
      ],
      "metadata": {
        "colab": {
          "base_uri": "https://localhost:8080/"
        },
        "id": "iwnqK8n_YGno",
        "outputId": "23809e21-e9c3-4ad6-ea45-0f2c3112b083"
      },
      "execution_count": null,
      "outputs": [
        {
          "output_type": "execute_result",
          "data": {
            "text/plain": [
              "(10000, 32, 32, 3)"
            ]
          },
          "metadata": {},
          "execution_count": 6
        }
      ]
    },
    {
      "cell_type": "markdown",
      "source": [
        "Here we see there are 50000 training images and 10000 test images"
      ],
      "metadata": {
        "id": "jRQ7L1r6YKX-"
      }
    },
    {
      "cell_type": "code",
      "source": [
        "y_train.shape"
      ],
      "metadata": {
        "colab": {
          "base_uri": "https://localhost:8080/"
        },
        "id": "jGvsM0-lXtst",
        "outputId": "6953b1e8-2c10-41a0-ae92-8cb396ccb0fa"
      },
      "execution_count": null,
      "outputs": [
        {
          "output_type": "execute_result",
          "data": {
            "text/plain": [
              "(50000, 1)"
            ]
          },
          "metadata": {},
          "execution_count": 7
        }
      ]
    },
    {
      "cell_type": "code",
      "source": [
        "y_train[:5]"
      ],
      "metadata": {
        "colab": {
          "base_uri": "https://localhost:8080/"
        },
        "id": "tuWte9W5Xz2w",
        "outputId": "1716f141-d25a-473b-aefb-45c27ee96453"
      },
      "execution_count": null,
      "outputs": [
        {
          "output_type": "execute_result",
          "data": {
            "text/plain": [
              "array([[6],\n",
              "       [9],\n",
              "       [9],\n",
              "       [4],\n",
              "       [1]], dtype=uint8)"
            ]
          },
          "metadata": {},
          "execution_count": 8
        }
      ]
    },
    {
      "cell_type": "code",
      "source": [
        "y_train = y_train.reshape(-1,)\n"
      ],
      "metadata": {
        "id": "VaYM_n_hYcmT"
      },
      "execution_count": null,
      "outputs": []
    },
    {
      "cell_type": "code",
      "source": [
        "y_test = y_test.reshape(-1,)"
      ],
      "metadata": {
        "id": "Rj54IBWnfK1K"
      },
      "execution_count": null,
      "outputs": []
    },
    {
      "cell_type": "code",
      "source": [
        "y_train[:5]"
      ],
      "metadata": {
        "colab": {
          "base_uri": "https://localhost:8080/"
        },
        "id": "tNpeuKZLYg1r",
        "outputId": "12be2f3e-d194-46cc-e059-9bd4484daad4"
      },
      "execution_count": null,
      "outputs": [
        {
          "output_type": "execute_result",
          "data": {
            "text/plain": [
              "array([6, 9, 9, 4, 1], dtype=uint8)"
            ]
          },
          "metadata": {},
          "execution_count": 10
        }
      ]
    },
    {
      "cell_type": "code",
      "source": [
        "classes = [\"airplane\",\"automobile\",\"bird\",\"cat\",\"deer\",\"dog\",\"frog\",\"horse\",\"ship\",\"truck\"]"
      ],
      "metadata": {
        "id": "I7gIH-kCXDRy"
      },
      "execution_count": null,
      "outputs": []
    },
    {
      "cell_type": "code",
      "source": [
        "classes[7]"
      ],
      "metadata": {
        "colab": {
          "base_uri": "https://localhost:8080/",
          "height": 35
        },
        "id": "tq104ri1Wyvg",
        "outputId": "28446894-a21d-4929-e728-746fea18356b"
      },
      "execution_count": null,
      "outputs": [
        {
          "output_type": "execute_result",
          "data": {
            "application/vnd.google.colaboratory.intrinsic+json": {
              "type": "string"
            },
            "text/plain": [
              "'horse'"
            ]
          },
          "metadata": {},
          "execution_count": 14
        }
      ]
    },
    {
      "cell_type": "markdown",
      "source": [
        "Let's plot some images to see what they are"
      ],
      "metadata": {
        "id": "aKyKZnHuXIbK"
      }
    },
    {
      "cell_type": "code",
      "source": [
        "def plot_sample(X,y,index):\n",
        "  plt.figure(figsize = (16,3))\n",
        "  plt.imshow(X[index])\n",
        "  plt.xlabel(classes[y[index]])"
      ],
      "metadata": {
        "id": "w0gY7FRYWVz8"
      },
      "execution_count": null,
      "outputs": []
    },
    {
      "cell_type": "code",
      "source": [
        "plot_sample(X_train,y_train,373)"
      ],
      "metadata": {
        "colab": {
          "base_uri": "https://localhost:8080/",
          "height": 226
        },
        "id": "X7Jhy7FTW3uG",
        "outputId": "d2125fbd-298e-4489-c229-0abc7073b6df"
      },
      "execution_count": null,
      "outputs": [
        {
          "output_type": "display_data",
          "data": {
            "image/png": "[encoded data removed]",
            "text/plain": [
              "<Figure size 1152x216 with 1 Axes>"
            ]
          },
          "metadata": {
            "needs_background": "light"
          }
        }
      ]
    },
    {
      "cell_type": "code",
      "source": [
        "plot_sample(X_train,y_train,3)"
      ],
      "metadata": {
        "colab": {
          "base_uri": "https://localhost:8080/",
          "height": 226
        },
        "id": "UBX5t1LPXhpO",
        "outputId": "bd47d0b5-3032-432d-d899-a48462015567"
      },
      "execution_count": null,
      "outputs": [
        {
          "output_type": "display_data",
          "data": {
            "image/png": "[encoded data removed]",
            "text/plain": [
              "<Figure size 1152x216 with 1 Axes>"
            ]
          },
          "metadata": {
            "needs_background": "light"
          }
        }
      ]
    },
    {
      "cell_type": "markdown",
      "source": [
        "**Normalizing the training data**"
      ],
      "metadata": {
        "id": "5Ws_tEvHX2it"
      }
    },
    {
      "cell_type": "markdown",
      "source": [
        "Normalize the images to a number from 0 to 1. Image has 3 channels (R,G,B) and each value in the channel can range from 0 to 255. Hence to normalize in 0-->1 range, we need to divide it by 255"
      ],
      "metadata": {
        "id": "WaKKCRN-X87q"
      }
    },
    {
      "cell_type": "code",
      "source": [
        "X_train = X_train / 255.0\n",
        "X_test = X_test / 255.0"
      ],
      "metadata": {
        "id": "kAGt2Sl4YDF6"
      },
      "execution_count": null,
      "outputs": []
    },
    {
      "cell_type": "markdown",
      "source": [
        "**Building an ANN**"
      ],
      "metadata": {
        "id": "43zOmxPIYWhu"
      }
    },
    {
      "cell_type": "markdown",
      "source": [
        "Let's first build an ANN and se how it performs"
      ],
      "metadata": {
        "id": "m9awKcIhYbW9"
      }
    },
    {
      "cell_type": "code",
      "source": [
        "ann = models.Sequential([\n",
        "        layers.Flatten(input_shape=(32,32,3)),\n",
        "        layers.Dense(3000, activation='relu'),\n",
        "        layers.Dense(1000, activation='relu'),\n",
        "        layers.Dense(10, activation='sigmoid')    \n",
        "    ])\n",
        "\n",
        "ann.compile(optimizer='SGD',\n",
        "              loss='sparse_categorical_crossentropy',\n",
        "              metrics=['accuracy'])\n",
        "\n",
        "ann.fit(X_train, y_train, epochs=5)"
      ],
      "metadata": {
        "colab": {
          "base_uri": "https://localhost:8080/"
        },
        "id": "Tb3nzSiaYg6t",
        "outputId": "121b7985-e4c4-483a-8029-1705888b7f76"
      },
      "execution_count": null,
      "outputs": [
        {
          "output_type": "stream",
          "name": "stdout",
          "text": [
            "Epoch 1/5\n",
            "1563/1563 [==============================] - 97s 61ms/step - loss: 1.8138 - accuracy: 0.3535\n",
            "Epoch 2/5\n",
            "1563/1563 [==============================] - 96s 61ms/step - loss: 1.6246 - accuracy: 0.4262\n",
            "Epoch 3/5\n",
            "1563/1563 [==============================] - 97s 62ms/step - loss: 1.5394 - accuracy: 0.4588\n",
            "Epoch 4/5\n",
            "1563/1563 [==============================] - 97s 62ms/step - loss: 1.4815 - accuracy: 0.4769\n",
            "Epoch 5/5\n",
            "1563/1563 [==============================] - 96s 62ms/step - loss: 1.4331 - accuracy: 0.4952\n"
          ]
        },
        {
          "output_type": "execute_result",
          "data": {
            "text/plain": [
              "<keras.callbacks.History at 0x7f923c2acc90>"
            ]
          },
          "metadata": {},
          "execution_count": 21
        }
      ]
    },
    {
      "cell_type": "markdown",
      "source": [
        "We see that at the end of 5 epoch accuracy is somewhere around 49% , which is not very good"
      ],
      "metadata": {
        "id": "UGBp5c7uatUV"
      }
    },
    {
      "cell_type": "markdown",
      "source": [
        "Let's print the classification report of this model"
      ],
      "metadata": {
        "id": "WVMdXzOwa4nc"
      }
    },
    {
      "cell_type": "code",
      "source": [
        "from sklearn.metrics import confusion_matrix , classification_report\n",
        "import numpy as np\n",
        "y_pred = ann.predict(X_test)\n",
        "y_pred_classes = [np.argmax(element) for element in y_pred]\n",
        "\n",
        "print(\"Classification Report: \\n\", classification_report(y_test, y_pred_classes))"
      ],
      "metadata": {
        "colab": {
          "base_uri": "https://localhost:8080/"
        },
        "id": "qAEVdYgya268",
        "outputId": "85125759-b089-4ce6-af57-7eec14d17f7d"
      },
      "execution_count": null,
      "outputs": [
        {
          "output_type": "stream",
          "name": "stdout",
          "text": [
            "Classification Report: \n",
            "               precision    recall  f1-score   support\n",
            "\n",
            "           0       0.48      0.59      0.53      1000\n",
            "           1       0.68      0.51      0.58      1000\n",
            "           2       0.33      0.47      0.39      1000\n",
            "           3       0.40      0.15      0.22      1000\n",
            "           4       0.48      0.27      0.35      1000\n",
            "           5       0.41      0.38      0.39      1000\n",
            "           6       0.43      0.67      0.53      1000\n",
            "           7       0.60      0.50      0.55      1000\n",
            "           8       0.51      0.71      0.59      1000\n",
            "           9       0.58      0.52      0.54      1000\n",
            "\n",
            "    accuracy                           0.48     10000\n",
            "   macro avg       0.49      0.48      0.47     10000\n",
            "weighted avg       0.49      0.48      0.47     10000\n",
            "\n"
          ]
        }
      ]
    },
    {
      "cell_type": "markdown",
      "source": [
        "Now Let's build a CNN and see how it performs"
      ],
      "metadata": {
        "id": "D181U2jOcF_M"
      }
    },
    {
      "cell_type": "code",
      "source": [
        "cnn = models.Sequential([\n",
        "    layers.Conv2D(filters=33, kernel_size=(3, 3), activation='relu', input_shape=(32, 32, 3)),\n",
        "    layers.MaxPooling2D((3, 3)),\n",
        "    \n",
        "    layers.Conv2D(filters=61, kernel_size=(3, 3), activation='relu'),\n",
        "    layers.MaxPooling2D((3, 3)),\n",
        "    \n",
        "    layers.Flatten(),\n",
        "    layers.Dense(64, activation='relu'),\n",
        "    layers.Dense(10, activation='softmax')\n",
        "])"
      ],
      "metadata": {
        "id": "PmlyB2vpcNOV"
      },
      "execution_count": null,
      "outputs": []
    },
    {
      "cell_type": "code",
      "source": [
        "cnn.compile(optimizer='adam',\n",
        "              loss='sparse_categorical_crossentropy',\n",
        "              metrics=['accuracy'])"
      ],
      "metadata": {
        "id": "gtuy6pouc8dr"
      },
      "execution_count": null,
      "outputs": []
    },
    {
      "cell_type": "code",
      "source": [
        "cnn.fit(X_train, y_train, epochs=5)"
      ],
      "metadata": {
        "colab": {
          "base_uri": "https://localhost:8080/"
        },
        "id": "BXWTb3Prc96L",
        "outputId": "8cd7a8e5-2c92-4881-a34a-d97ec258972c"
      },
      "execution_count": null,
      "outputs": [
        {
          "output_type": "stream",
          "name": "stdout",
          "text": [
            "Epoch 1/5\n",
            "1563/1563 [==============================] - 43s 27ms/step - loss: 1.6810 - accuracy: 0.3834\n",
            "Epoch 2/5\n",
            "1563/1563 [==============================] - 42s 27ms/step - loss: 1.3509 - accuracy: 0.5192\n",
            "Epoch 3/5\n",
            "1563/1563 [==============================] - 42s 27ms/step - loss: 1.2281 - accuracy: 0.5670\n",
            "Epoch 4/5\n",
            "1563/1563 [==============================] - 43s 27ms/step - loss: 1.1474 - accuracy: 0.5958\n",
            "Epoch 5/5\n",
            "1563/1563 [==============================] - 43s 27ms/step - loss: 1.0882 - accuracy: 0.6189\n"
          ]
        },
        {
          "output_type": "execute_result",
          "data": {
            "text/plain": [
              "<keras.callbacks.History at 0x7f9239814b50>"
            ]
          },
          "metadata": {},
          "execution_count": 26
        }
      ]
    },
    {
      "cell_type": "markdown",
      "source": [
        "We can see that with the same number of epochs in ANN we got around 49% ad here in CNN we got around 62% and it's good on running for more number of epochs the change we will notice will be significant"
      ],
      "metadata": {
        "id": "-Kxd25r_eEGS"
      }
    },
    {
      "cell_type": "code",
      "source": [
        "cnn.evaluate(X_test,y_test)"
      ],
      "metadata": {
        "colab": {
          "base_uri": "https://localhost:8080/"
        },
        "id": "623wQ3cBeaQC",
        "outputId": "48feb662-f1fd-4028-bd1f-738a6c391424"
      },
      "execution_count": null,
      "outputs": [
        {
          "output_type": "stream",
          "name": "stdout",
          "text": [
            "313/313 [==============================] - 3s 9ms/step - loss: 1.1776 - accuracy: 0.5955\n"
          ]
        },
        {
          "output_type": "execute_result",
          "data": {
            "text/plain": [
              "[1.1776046752929688, 0.5954999923706055]"
            ]
          },
          "metadata": {},
          "execution_count": 27
        }
      ]
    },
    {
      "cell_type": "markdown",
      "source": [
        "**Let's now do some predictions**"
      ],
      "metadata": {
        "id": "V1rSWYXeejHL"
      }
    },
    {
      "cell_type": "code",
      "source": [
        "y_pred = cnn.predict(X_test)\n",
        "y_pred[:5]"
      ],
      "metadata": {
        "colab": {
          "base_uri": "https://localhost:8080/"
        },
        "id": "INqX5q_yefik",
        "outputId": "3665947e-242b-434b-b647-4dc68234fa6c"
      },
      "execution_count": null,
      "outputs": [
        {
          "output_type": "execute_result",
          "data": {
            "text/plain": [
              "array([[1.7470388e-03, 7.3859654e-04, 7.0109707e-03, 7.1462953e-01,\n",
              "        2.5752999e-03, 2.2300863e-01, 4.1191541e-02, 2.1529016e-03,\n",
              "        4.4591734e-03, 2.4862546e-03],\n",
              "       [5.1951911e-02, 5.5589730e-01, 2.2375914e-05, 3.5958560e-04,\n",
              "        1.6409396e-05, 1.1702978e-05, 1.9060482e-05, 1.3279713e-05,\n",
              "        3.4015340e-01, 5.1554933e-02],\n",
              "       [2.2156019e-02, 4.3990254e-01, 1.6529250e-03, 1.7386306e-02,\n",
              "        1.7661760e-03, 3.9003899e-03, 6.0338732e-03, 9.2185673e-04,\n",
              "        2.2918329e-01, 2.7709660e-01],\n",
              "       [4.7308084e-01, 1.7503582e-02, 7.9682898e-03, 8.2271202e-03,\n",
              "        1.4438504e-02, 3.2518167e-04, 5.8578798e-03, 1.1202724e-03,\n",
              "        4.6411139e-01, 7.3669120e-03],\n",
              "       [4.4605516e-05, 2.1363939e-04, 1.9223470e-02, 1.8026091e-02,\n",
              "        4.9056622e-01, 7.6136291e-03, 4.6300885e-01, 1.2226988e-03,\n",
              "        5.7609435e-05, 2.3185261e-05]], dtype=float32)"
            ]
          },
          "metadata": {},
          "execution_count": 28
        }
      ]
    },
    {
      "cell_type": "markdown",
      "source": [
        "Here we are taking the maxx out of the y_pred and giving it to a class"
      ],
      "metadata": {
        "id": "1KqUjwkSevlb"
      }
    },
    {
      "cell_type": "code",
      "source": [
        "y_classes = [np.argmax(element) for element in y_pred]\n",
        "y_classes[:5]"
      ],
      "metadata": {
        "colab": {
          "base_uri": "https://localhost:8080/"
        },
        "id": "6-hhMHJuerKT",
        "outputId": "e98567d5-843d-4527-a00e-15101f71c2b4"
      },
      "execution_count": null,
      "outputs": [
        {
          "output_type": "execute_result",
          "data": {
            "text/plain": [
              "[3, 1, 1, 0, 4]"
            ]
          },
          "metadata": {},
          "execution_count": 29
        }
      ]
    },
    {
      "cell_type": "code",
      "source": [
        "y_test[:5]"
      ],
      "metadata": {
        "colab": {
          "base_uri": "https://localhost:8080/"
        },
        "id": "mDbD8d5re_jL",
        "outputId": "48dab93b-3982-4880-8290-50e22fb051a8"
      },
      "execution_count": null,
      "outputs": [
        {
          "output_type": "execute_result",
          "data": {
            "text/plain": [
              "array([3, 8, 8, 0, 6], dtype=uint8)"
            ]
          },
          "metadata": {},
          "execution_count": 32
        }
      ]
    },
    {
      "cell_type": "code",
      "source": [
        "plot_sample(X_test, y_test,3)"
      ],
      "metadata": {
        "colab": {
          "base_uri": "https://localhost:8080/",
          "height": 226
        },
        "id": "JNqLbf1XfcHi",
        "outputId": "8367e7ed-c9d0-4c28-cbe3-a2e873653d2e"
      },
      "execution_count": null,
      "outputs": [
        {
          "output_type": "display_data",
          "data": {
            "image/png": "[encoded data removed]",
            "text/plain": [
              "<Figure size 1152x216 with 1 Axes>"
            ]
          },
          "metadata": {
            "needs_background": "light"
          }
        }
      ]
    },
    {
      "cell_type": "code",
      "source": [
        "classes[y_classes[3]]"
      ],
      "metadata": {
        "colab": {
          "base_uri": "https://localhost:8080/",
          "height": 35
        },
        "id": "OaoBzKFHfd5C",
        "outputId": "62e6c271-0d7e-4473-9b17-e00397320dbd"
      },
      "execution_count": null,
      "outputs": [
        {
          "output_type": "execute_result",
          "data": {
            "application/vnd.google.colaboratory.intrinsic+json": {
              "type": "string"
            },
            "text/plain": [
              "'airplane'"
            ]
          },
          "metadata": {},
          "execution_count": 34
        }
      ]
    },
    {
      "cell_type": "code",
      "source": [
        "plot_sample(X_test, y_test,7)"
      ],
      "metadata": {
        "colab": {
          "base_uri": "https://localhost:8080/",
          "height": 226
        },
        "id": "sQKlyYgaflBJ",
        "outputId": "30ea946f-8af2-4087-f470-0189f3410d62"
      },
      "execution_count": null,
      "outputs": [
        {
          "output_type": "display_data",
          "data": {
            "image/png": "[encoded data removed]",
            "text/plain": [
              "<Figure size 1152x216 with 1 Axes>"
            ]
          },
          "metadata": {
            "needs_background": "light"
          }
        }
      ]
    },
    {
      "cell_type": "code",
      "source": [
        "classes[y_classes[7]]"
      ],
      "metadata": {
        "colab": {
          "base_uri": "https://localhost:8080/",
          "height": 35
        },
        "id": "-IGnowkHfn1g",
        "outputId": "94a3ff88-0c90-4d46-c0d0-60a41217f835"
      },
      "execution_count": null,
      "outputs": [
        {
          "output_type": "execute_result",
          "data": {
            "application/vnd.google.colaboratory.intrinsic+json": {
              "type": "string"
            },
            "text/plain": [
              "'frog'"
            ]
          },
          "metadata": {},
          "execution_count": 36
        }
      ]
    },
    {
      "cell_type": "code",
      "source": [
        "plot_sample(X_test, y_test,0)"
      ],
      "metadata": {
        "colab": {
          "base_uri": "https://localhost:8080/",
          "height": 226
        },
        "id": "d0uD0UkSf1N6",
        "outputId": "21e5bf96-3840-4020-d946-ae6c22f0fae9"
      },
      "execution_count": null,
      "outputs": [
        {
          "output_type": "display_data",
          "data": {
            "image/png": "[encoded data removed]",
            "text/plain": [
              "<Figure size 1152x216 with 1 Axes>"
            ]
          },
          "metadata": {
            "needs_background": "light"
          }
        }
      ]
    },
    {
      "cell_type": "code",
      "source": [
        "classes[y_classes[0]]"
      ],
      "metadata": {
        "colab": {
          "base_uri": "https://localhost:8080/",
          "height": 35
        },
        "id": "csAIPX2Zf3bZ",
        "outputId": "063be3e6-82ad-42e6-e2ca-89354ed02377"
      },
      "execution_count": null,
      "outputs": [
        {
          "output_type": "execute_result",
          "data": {
            "application/vnd.google.colaboratory.intrinsic+json": {
              "type": "string"
            },
            "text/plain": [
              "'cat'"
            ]
          },
          "metadata": {},
          "execution_count": 38
        }
      ]
    },
    {
      "cell_type": "code",
      "source": [
        "from sklearn.metrics import confusion_matrix , classification_report\n",
        "import numpy as np\n",
        "y_pred = cnn.predict(X_test)\n",
        "y_pred_classes = [np.argmax(element) for element in y_pred]\n",
        "\n",
        "print(\"Classification Report: \\n\", classification_report(y_test, y_pred_classes))"
      ],
      "metadata": {
        "colab": {
          "base_uri": "https://localhost:8080/"
        },
        "id": "Y_JCPKA_gFCS",
        "outputId": "cb38ada9-17cb-4aa2-f606-fdaec63485b3"
      },
      "execution_count": null,
      "outputs": [
        {
          "output_type": "stream",
          "name": "stdout",
          "text": [
            "Classification Report: \n",
            "               precision    recall  f1-score   support\n",
            "\n",
            "           0       0.78      0.50      0.61      1000\n",
            "           1       0.70      0.76      0.73      1000\n",
            "           2       0.73      0.21      0.33      1000\n",
            "           3       0.41      0.37      0.39      1000\n",
            "           4       0.50      0.61      0.55      1000\n",
            "           5       0.44      0.69      0.54      1000\n",
            "           6       0.62      0.80      0.70      1000\n",
            "           7       0.61      0.65      0.63      1000\n",
            "           8       0.75      0.65      0.69      1000\n",
            "           9       0.66      0.70      0.68      1000\n",
            "\n",
            "    accuracy                           0.60     10000\n",
            "   macro avg       0.62      0.60      0.59     10000\n",
            "weighted avg       0.62      0.60      0.59     10000\n",
            "\n"
          ]
        }
      ]
    }
  ]
}